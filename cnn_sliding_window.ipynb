{
 "cells": [
  {
   "cell_type": "markdown",
   "metadata": {
    "ExecuteTime": {
     "end_time": "2019-10-18T05:11:08.165101Z",
     "start_time": "2019-10-18T05:11:08.160704Z"
    },
    "code_folding": []
   },
   "source": [
    "## Importing Libraries"
   ]
  },
  {
   "cell_type": "code",
   "execution_count": 1,
   "metadata": {
    "ExecuteTime": {
     "end_time": "2019-10-20T07:58:17.888023Z",
     "start_time": "2019-10-20T07:58:15.922703Z"
    }
   },
   "outputs": [],
   "source": [
    "import os\n",
    "import glob\n",
    "\n",
    "import numpy as np \n",
    "import pandas as pd \n",
    "import matplotlib.pyplot as plt\n",
    "import cv2\n",
    "\n",
    "from tensorflow.keras.preprocessing import image\n",
    "from tensorflow.keras.models import Model\n",
    "from tensorflow.keras.optimizers import Adam\n",
    "from tensorflow.keras.callbacks import EarlyStopping\n",
    "from tensorflow.keras.layers import Input, Dense, Activation, BatchNormalization, Flatten, Conv2D\n",
    "from tensorflow.keras.layers import MaxPooling2D, Dropout, UpSampling2D"
   ]
  },
  {
   "cell_type": "code",
   "execution_count": 2,
   "metadata": {
    "ExecuteTime": {
     "end_time": "2019-10-20T07:58:18.747280Z",
     "start_time": "2019-10-20T07:58:18.736241Z"
    }
   },
   "outputs": [],
   "source": [
    "%matplotlib inline"
   ]
  },
  {
   "cell_type": "markdown",
   "metadata": {},
   "source": [
    "## Visualize Data"
   ]
  },
  {
   "cell_type": "code",
   "execution_count": 3,
   "metadata": {
    "ExecuteTime": {
     "end_time": "2019-10-20T07:58:20.812037Z",
     "start_time": "2019-10-20T07:58:20.631943Z"
    }
   },
   "outputs": [
    {
     "name": "stdout",
     "output_type": "stream",
     "text": [
      "(5, 5)\n"
     ]
    },
    {
     "data": {
      "image/png": "[encoded data removed]",
      "text/plain": [
       "<Figure size 432x288 with 1 Axes>"
      ]
     },
     "metadata": {
      "needs_background": "light"
     },
     "output_type": "display_data"
    }
   ],
   "source": [
    "# plt.figure(figsize=(20,8))\n",
    "plt.figure()\n",
    "img = cv2.imread('./gen_data/5_gray/00_lenna.jpg', 0)\n",
    "plt.imshow(img, cmap='gray')\n",
    "print(img.shape)"
   ]
  },
  {
   "cell_type": "markdown",
   "metadata": {
    "ExecuteTime": {
     "end_time": "2019-10-18T05:13:06.253885Z",
     "start_time": "2019-10-18T05:13:06.250028Z"
    }
   },
   "source": [
    "## Load Data and Train Model"
   ]
  },
  {
   "cell_type": "code",
   "execution_count": 4,
   "metadata": {
    "ExecuteTime": {
     "end_time": "2019-10-20T07:58:24.544976Z",
     "start_time": "2019-10-20T07:58:24.510445Z"
    }
   },
   "outputs": [],
   "source": [
    "TRAIN_IMAGES = glob.glob('./gen_data/5_gray/*.jpg')\n",
    "CLEAN_IMAGES = glob.glob('./gen_data/10_gray/*.jpg')\n",
    "# TEST_IMAGES = glob.glob('../input/test/*.png')"
   ]
  },
  {
   "cell_type": "code",
   "execution_count": 5,
   "metadata": {
    "ExecuteTime": {
     "end_time": "2019-10-20T07:58:25.688931Z",
     "start_time": "2019-10-20T07:58:25.682225Z"
    }
   },
   "outputs": [],
   "source": [
    "def load_image(path, image_size = 5):\n",
    "    image_list = np.zeros((len(path), image_size, image_size, 1))\n",
    "    for i, fig in enumerate(path):\n",
    "        img = image.load_img(fig, color_mode='grayscale', target_size=(image_size, image_size))\n",
    "        x = image.img_to_array(img).astype('float32')\n",
    "        x = x / 255.0\n",
    "        image_list[i] = x\n",
    "    \n",
    "    return image_list"
   ]
  },
  {
   "cell_type": "code",
   "execution_count": 6,
   "metadata": {
    "ExecuteTime": {
     "end_time": "2019-10-20T07:58:28.158431Z",
     "start_time": "2019-10-20T07:58:26.749929Z"
    }
   },
   "outputs": [
    {
     "name": "stdout",
     "output_type": "stream",
     "text": [
      "(2437, 5, 5, 1) (2437, 10, 10, 1)\n"
     ]
    }
   ],
   "source": [
    "x_train = load_image(TRAIN_IMAGES, 5)\n",
    "y_train = load_image(CLEAN_IMAGES, 10)\n",
    "# x_test = load_image(TEST_IMAGES)\n",
    "\n",
    "print(x_train.shape, y_train.shape)"
   ]
  },
  {
   "cell_type": "code",
   "execution_count": 7,
   "metadata": {
    "ExecuteTime": {
     "end_time": "2019-10-20T07:58:29.250897Z",
     "start_time": "2019-10-20T07:58:29.234035Z"
    }
   },
   "outputs": [
    {
     "name": "stdout",
     "output_type": "stream",
     "text": [
      "(1949, 5, 5, 1) (488, 5, 5, 1)\n"
     ]
    }
   ],
   "source": [
    "def train_val_split(x_train, y_train):\n",
    "    rnd = np.random.RandomState(seed=42)\n",
    "    perm = rnd.permutation(len(x_train))\n",
    "    train_idx = perm[:int(0.8 * len(x_train))]\n",
    "    val_idx = perm[int(0.8 * len(x_train)):]\n",
    "    return x_train[train_idx], y_train[train_idx], x_train[val_idx], y_train[val_idx]\n",
    "\n",
    "x_train, y_train, x_val, y_val = train_val_split(x_train, y_train)\n",
    "print(x_train.shape, x_val.shape)"
   ]
  },
  {
   "cell_type": "code",
   "execution_count": 8,
   "metadata": {
    "ExecuteTime": {
     "end_time": "2019-10-20T07:58:30.473626Z",
     "start_time": "2019-10-20T07:58:30.452268Z"
    }
   },
   "outputs": [],
   "source": [
    "class Autoencoder():\n",
    "    def __init__(self):\n",
    "        self.img_rows = 5\n",
    "        self.img_cols = 5\n",
    "        self.channels = 1\n",
    "        self.img_shape = (self.img_rows, self.img_cols, self.channels)\n",
    "        \n",
    "        optimizer = Adam(lr=0.001)\n",
    "        \n",
    "        self.autoencoder_model = self.build_model()\n",
    "        self.autoencoder_model.compile(loss='mse', optimizer=optimizer)\n",
    "        self.autoencoder_model.summary()\n",
    "    \n",
    "    def build_model(self):\n",
    "        input_layer = Input(shape=self.img_shape)\n",
    "        \n",
    "        # encoder\n",
    "        h = Conv2D(64, (3, 3), activation='relu', padding='same')(input_layer)\n",
    "#         h = MaxPooling2D((2, 2), padding='same')(h)\n",
    "        \n",
    "        # decoder\n",
    "        h = Conv2D(64, (3, 3), activation='relu', padding='same')(h)\n",
    "        h = UpSampling2D((2, 2))(h)\n",
    "        output_layer = Conv2D(1, (3, 3), activation='sigmoid', padding='same')(h)\n",
    "        \n",
    "        return Model(input_layer, output_layer)\n",
    "    \n",
    "    def train_model(self, x_train, y_train, x_val, y_val, epochs, batch_size=20):\n",
    "        early_stopping = EarlyStopping(monitor='val_loss',\n",
    "                                       min_delta=0,\n",
    "                                       patience=5,\n",
    "                                       verbose=1, \n",
    "                                       mode='auto')\n",
    "        history = self.autoencoder_model.fit(x_train, y_train,\n",
    "                                             batch_size=batch_size,\n",
    "                                             epochs=epochs,\n",
    "                                             validation_data=(x_val, y_val),\n",
    "                                             callbacks=[early_stopping])\n",
    "        plt.plot(history.history['loss'])\n",
    "        plt.plot(history.history['val_loss'])\n",
    "        plt.title('Model loss')\n",
    "        plt.ylabel('Loss')\n",
    "        plt.xlabel('Epoch')\n",
    "        plt.legend(['Train', 'Test'], loc='upper left')\n",
    "        plt.show()\n",
    "    \n",
    "    def eval_model(self, x_test):\n",
    "        preds = self.autoencoder_model.predict(x_test)\n",
    "        return preds\n",
    "    \n",
    "    def save_model(self):\n",
    "        self.autoencoder_model.save(\"my_model.h5\")"
   ]
  },
  {
   "cell_type": "code",
   "execution_count": 9,
   "metadata": {
    "ExecuteTime": {
     "end_time": "2019-10-20T07:58:59.171238Z",
     "start_time": "2019-10-20T07:58:33.437350Z"
    }
   },
   "outputs": [
    {
     "name": "stdout",
     "output_type": "stream",
     "text": [
      "Model: \"model\"\n",
      "_________________________________________________________________\n",
      "Layer (type)                 Output Shape              Param #   \n",
      "=================================================================\n",
      "input_1 (InputLayer)         [(None, 5, 5, 1)]         0         \n",
      "_________________________________________________________________\n",
      "conv2d (Conv2D)              (None, 5, 5, 64)          640       \n",
      "_________________________________________________________________\n",
      "conv2d_1 (Conv2D)            (None, 5, 5, 64)          36928     \n",
      "_________________________________________________________________\n",
      "up_sampling2d (UpSampling2D) (None, 10, 10, 64)        0         \n",
      "_________________________________________________________________\n",
      "conv2d_2 (Conv2D)            (None, 10, 10, 1)         577       \n",
      "=================================================================\n",
      "Total params: 38,145\n",
      "Trainable params: 38,145\n",
      "Non-trainable params: 0\n",
      "_________________________________________________________________\n",
      "Train on 1949 samples, validate on 488 samples\n",
      "Epoch 1/200\n",
      "1949/1949 [==============================] - 2s 1ms/sample - loss: 0.0110 - val_loss: 0.0020\n",
      "Epoch 2/200\n",
      "1949/1949 [==============================] - 1s 271us/sample - loss: 0.0011 - val_loss: 7.6196e-04\n",
      "Epoch 3/200\n",
      "1949/1949 [==============================] - 1s 274us/sample - loss: 7.1089e-04 - val_loss: 6.5255e-04\n",
      "Epoch 4/200\n",
      "1949/1949 [==============================] - 1s 271us/sample - loss: 6.2162e-04 - val_loss: 5.6912e-04\n",
      "Epoch 5/200\n",
      "1949/1949 [==============================] - 1s 268us/sample - loss: 5.6839e-04 - val_loss: 5.6311e-04\n",
      "Epoch 6/200\n",
      "1949/1949 [==============================] - 1s 271us/sample - loss: 5.6948e-04 - val_loss: 5.2691e-04\n",
      "Epoch 7/200\n",
      "1949/1949 [==============================] - 1s 264us/sample - loss: 5.2902e-04 - val_loss: 5.1187e-04\n",
      "Epoch 8/200\n",
      "1949/1949 [==============================] - 1s 271us/sample - loss: 5.3128e-04 - val_loss: 4.8869e-04\n",
      "Epoch 9/200\n",
      "1949/1949 [==============================] - 1s 272us/sample - loss: 4.9567e-04 - val_loss: 4.8057e-04\n",
      "Epoch 10/200\n",
      "1949/1949 [==============================] - 1s 267us/sample - loss: 4.9779e-04 - val_loss: 4.7353e-04\n",
      "Epoch 11/200\n",
      "1949/1949 [==============================] - 1s 283us/sample - loss: 4.9051e-04 - val_loss: 4.8842e-04\n",
      "Epoch 12/200\n",
      "1949/1949 [==============================] - 1s 265us/sample - loss: 4.8619e-04 - val_loss: 4.6418e-04\n",
      "Epoch 13/200\n",
      "1949/1949 [==============================] - 1s 270us/sample - loss: 4.7468e-04 - val_loss: 6.7989e-04\n",
      "Epoch 14/200\n",
      "1949/1949 [==============================] - 1s 269us/sample - loss: 5.0260e-04 - val_loss: 4.5218e-04\n",
      "Epoch 15/200\n",
      "1949/1949 [==============================] - 1s 274us/sample - loss: 4.5405e-04 - val_loss: 4.4715e-04\n",
      "Epoch 16/200\n",
      "1949/1949 [==============================] - 1s 261us/sample - loss: 4.8170e-04 - val_loss: 4.7000e-04\n",
      "Epoch 17/200\n",
      "1949/1949 [==============================] - 1s 264us/sample - loss: 4.8714e-04 - val_loss: 4.7413e-04\n",
      "Epoch 18/200\n",
      "1949/1949 [==============================] - 1s 260us/sample - loss: 4.5480e-04 - val_loss: 4.3871e-04\n",
      "Epoch 19/200\n",
      "1949/1949 [==============================] - 1s 262us/sample - loss: 4.3795e-04 - val_loss: 4.4583e-04\n",
      "Epoch 20/200\n",
      "1949/1949 [==============================] - 1s 269us/sample - loss: 4.4453e-04 - val_loss: 4.4141e-04\n",
      "Epoch 21/200\n",
      "1949/1949 [==============================] - 1s 268us/sample - loss: 4.5274e-04 - val_loss: 4.7140e-04\n",
      "Epoch 22/200\n",
      "1949/1949 [==============================] - 1s 269us/sample - loss: 4.4806e-04 - val_loss: 4.3185e-04\n",
      "Epoch 23/200\n",
      "1949/1949 [==============================] - 1s 269us/sample - loss: 4.3009e-04 - val_loss: 4.2931e-04\n",
      "Epoch 24/200\n",
      "1949/1949 [==============================] - 1s 265us/sample - loss: 4.3285e-04 - val_loss: 4.3004e-04\n",
      "Epoch 25/200\n",
      "1949/1949 [==============================] - 1s 271us/sample - loss: 4.4031e-04 - val_loss: 4.5736e-04\n",
      "Epoch 26/200\n",
      "1949/1949 [==============================] - 1s 272us/sample - loss: 4.2698e-04 - val_loss: 4.2872e-04\n",
      "Epoch 27/200\n",
      "1949/1949 [==============================] - 1s 268us/sample - loss: 4.3809e-04 - val_loss: 4.3552e-04\n",
      "Epoch 28/200\n",
      "1949/1949 [==============================] - 1s 268us/sample - loss: 4.8452e-04 - val_loss: 4.3625e-04\n",
      "Epoch 29/200\n",
      "1949/1949 [==============================] - 1s 265us/sample - loss: 4.2177e-04 - val_loss: 4.2021e-04\n",
      "Epoch 30/200\n",
      "1949/1949 [==============================] - 1s 273us/sample - loss: 4.2096e-04 - val_loss: 4.2358e-04\n",
      "Epoch 31/200\n",
      "1949/1949 [==============================] - 1s 274us/sample - loss: 4.2008e-04 - val_loss: 4.2718e-04\n",
      "Epoch 32/200\n",
      "1949/1949 [==============================] - 1s 269us/sample - loss: 4.2100e-04 - val_loss: 4.1736e-04\n",
      "Epoch 33/200\n",
      "1949/1949 [==============================] - 1s 273us/sample - loss: 4.1917e-04 - val_loss: 4.1861e-04\n",
      "Epoch 34/200\n",
      "1949/1949 [==============================] - 1s 266us/sample - loss: 4.1996e-04 - val_loss: 4.2533e-04\n",
      "Epoch 35/200\n",
      "1949/1949 [==============================] - 1s 273us/sample - loss: 4.3236e-04 - val_loss: 4.6701e-04\n",
      "Epoch 36/200\n",
      "1949/1949 [==============================] - 1s 271us/sample - loss: 4.1975e-04 - val_loss: 4.1829e-04\n",
      "Epoch 37/200\n",
      "1949/1949 [==============================] - 1s 268us/sample - loss: 4.1539e-04 - val_loss: 4.3810e-04\n",
      "Epoch 00037: early stopping\n"
     ]
    },
    {
     "data": {
      "image/png": "[encoded data removed]",
      "text/plain": [
       "<Figure size 432x288 with 1 Axes>"
      ]
     },
     "metadata": {
      "needs_background": "light"
     },
     "output_type": "display_data"
    }
   ],
   "source": [
    "ae = Autoencoder()\n",
    "ae.train_model(x_train, y_train, x_val, y_val, epochs=200, batch_size=20)"
   ]
  },
  {
   "cell_type": "code",
   "execution_count": 10,
   "metadata": {
    "ExecuteTime": {
     "end_time": "2019-10-20T07:59:05.853016Z",
     "start_time": "2019-10-20T07:59:05.808587Z"
    }
   },
   "outputs": [],
   "source": [
    "ae.save_model()"
   ]
  },
  {
   "cell_type": "code",
   "execution_count": null,
   "metadata": {},
   "outputs": [],
   "source": []
  },
  {
   "cell_type": "code",
   "execution_count": null,
   "metadata": {},
   "outputs": [],
   "source": []
  },
  {
   "cell_type": "code",
   "execution_count": 11,
   "metadata": {
    "ExecuteTime": {
     "end_time": "2019-10-20T07:59:21.054884Z",
     "start_time": "2019-10-20T07:59:21.034028Z"
    }
   },
   "outputs": [
    {
     "name": "stdout",
     "output_type": "stream",
     "text": [
      "(10, 5, 5, 1)\n"
     ]
    }
   ],
   "source": [
    "TEST_IMAGES = glob.glob('./gen_data/test/*.jpg')\n",
    "x_test = load_image(TEST_IMAGES)\n",
    "print(x_test.shape)"
   ]
  },
  {
   "cell_type": "code",
   "execution_count": 12,
   "metadata": {
    "ExecuteTime": {
     "end_time": "2019-10-20T07:59:22.435045Z",
     "start_time": "2019-10-20T07:59:22.264931Z"
    }
   },
   "outputs": [],
   "source": [
    "preds = ae.eval_model(x_test)"
   ]
  },
  {
   "cell_type": "code",
   "execution_count": 13,
   "metadata": {
    "ExecuteTime": {
     "end_time": "2019-10-20T07:59:23.579176Z",
     "start_time": "2019-10-20T07:59:23.384910Z"
    }
   },
   "outputs": [
    {
     "data": {
      "text/plain": [
       "<matplotlib.image.AxesImage at 0x7f89187efb70>"
      ]
     },
     "execution_count": 13,
     "metadata": {},
     "output_type": "execute_result"
    },
    {
     "data": {
      "image/png": "[encoded data removed]",
      "text/plain": [
       "<Figure size 432x288 with 1 Axes>"
      ]
     },
     "metadata": {
      "needs_background": "light"
     },
     "output_type": "display_data"
    }
   ],
   "source": [
    "preds_0 = preds[1] * 255.0\n",
    "preds_0 = preds_0.reshape(10, 10)\n",
    "x_test_0 = x_test[1] * 255.0\n",
    "x_test_0 = x_test_0.reshape(5, 5)\n",
    "plt.imshow(x_test_0, cmap='gray')"
   ]
  },
  {
   "cell_type": "code",
   "execution_count": 14,
   "metadata": {
    "ExecuteTime": {
     "end_time": "2019-10-20T07:59:25.285858Z",
     "start_time": "2019-10-20T07:59:25.118426Z"
    }
   },
   "outputs": [
    {
     "data": {
      "text/plain": [
       "<matplotlib.image.AxesImage at 0x7f8918739d68>"
      ]
     },
     "execution_count": 14,
     "metadata": {},
     "output_type": "execute_result"
    },
    {
     "data": {
      "image/png": "[encoded data removed]",
      "text/plain": [
       "<Figure size 432x288 with 1 Axes>"
      ]
     },
     "metadata": {
      "needs_background": "light"
     },
     "output_type": "display_data"
    }
   ],
   "source": [
    "plt.imshow(preds_0, cmap='gray')"
   ]
  },
  {
   "cell_type": "code",
   "execution_count": 37,
   "metadata": {
    "ExecuteTime": {
     "end_time": "2019-10-18T04:56:58.351276Z",
     "start_time": "2019-10-18T04:56:58.163293Z"
    }
   },
   "outputs": [
    {
     "name": "stdout",
     "output_type": "stream",
     "text": [
      "(5, 5)\n"
     ]
    },
    {
     "data": {
      "image/png": "[encoded data removed]",
      "text/plain": [
       "<Figure size 432x288 with 1 Axes>"
      ]
     },
     "metadata": {
      "needs_background": "light"
     },
     "output_type": "display_data"
    }
   ],
   "source": [
    "# plt.figure(figsize=(20,8))\n",
    "plt.figure()\n",
    "img = cv2.imread('./gen_data/5_gray/031_lenna.jpg', 0)\n",
    "plt.imshow(img, cmap='gray')\n",
    "print(img.shape)"
   ]
  },
  {
   "cell_type": "code",
   "execution_count": 38,
   "metadata": {
    "ExecuteTime": {
     "end_time": "2019-10-18T04:56:59.418857Z",
     "start_time": "2019-10-18T04:56:59.282072Z"
    }
   },
   "outputs": [
    {
     "name": "stdout",
     "output_type": "stream",
     "text": [
      "(10, 10)\n"
     ]
    },
    {
     "data": {
      "image/png": "[encoded data removed]",
      "text/plain": [
       "<Figure size 432x288 with 1 Axes>"
      ]
     },
     "metadata": {
      "needs_background": "light"
     },
     "output_type": "display_data"
    }
   ],
   "source": [
    "plt.figure()\n",
    "img = cv2.imread('./gen_data/10_gray/031_lenna.jpg', 0)\n",
    "plt.imshow(img, cmap='gray')\n",
    "print(img.shape)"
   ]
  },
  {
   "cell_type": "markdown",
   "metadata": {},
   "source": [
    "## Test Stitching Method"
   ]
  },
  {
   "cell_type": "code",
   "execution_count": 69,
   "metadata": {
    "ExecuteTime": {
     "end_time": "2019-10-20T08:10:32.296914Z",
     "start_time": "2019-10-20T08:10:32.287114Z"
    }
   },
   "outputs": [],
   "source": [
    "img = cv2.imread(\"cr7_out.jpg\", 0)"
   ]
  },
  {
   "cell_type": "code",
   "execution_count": 70,
   "metadata": {
    "ExecuteTime": {
     "end_time": "2019-10-20T08:10:33.153289Z",
     "start_time": "2019-10-20T08:10:33.147010Z"
    }
   },
   "outputs": [
    {
     "data": {
      "text/plain": [
       "(400, 400)"
      ]
     },
     "execution_count": 70,
     "metadata": {},
     "output_type": "execute_result"
    }
   ],
   "source": [
    "img.shape"
   ]
  },
  {
   "cell_type": "code",
   "execution_count": 71,
   "metadata": {
    "ExecuteTime": {
     "end_time": "2019-10-20T08:10:36.271085Z",
     "start_time": "2019-10-20T08:10:36.258264Z"
    }
   },
   "outputs": [],
   "source": [
    "win_H = win_W = 5\n",
    "stride = 5"
   ]
  },
  {
   "cell_type": "code",
   "execution_count": 72,
   "metadata": {
    "ExecuteTime": {
     "end_time": "2019-10-20T08:10:37.436011Z",
     "start_time": "2019-10-20T08:10:37.431543Z"
    }
   },
   "outputs": [],
   "source": [
    "pieces_5 = []"
   ]
  },
  {
   "cell_type": "code",
   "execution_count": 73,
   "metadata": {
    "ExecuteTime": {
     "end_time": "2019-10-20T08:10:38.610784Z",
     "start_time": "2019-10-20T08:10:38.593035Z"
    }
   },
   "outputs": [],
   "source": [
    "for i in range(img.shape[1]//stride):\n",
    "    for j in range(img.shape[0]//stride):\n",
    "#         dummy = img.copy()\n",
    "#         drawn_img = cv2.rectangle(dummy,(j*stride,i*stride),(j*stride + win_W, i*stride + win_H),(0,255,0),3)\n",
    "\n",
    "        from_x = j*stride\n",
    "        from_y = i*stride\n",
    "        to_x = j*stride + win_W\n",
    "        to_y = i*stride + win_H\n",
    "\n",
    "        cropped = img[from_y:to_y, from_x:to_x]\n",
    "\n",
    "        pieces_5.append(cropped)"
   ]
  },
  {
   "cell_type": "code",
   "execution_count": 74,
   "metadata": {
    "ExecuteTime": {
     "end_time": "2019-10-20T08:10:40.383321Z",
     "start_time": "2019-10-20T08:10:40.369038Z"
    }
   },
   "outputs": [
    {
     "data": {
      "text/plain": [
       "(6400, 5, 5)"
      ]
     },
     "execution_count": 74,
     "metadata": {},
     "output_type": "execute_result"
    }
   ],
   "source": [
    "pieces_5 = np.asarray(pieces_5)\n",
    "pieces_5.shape"
   ]
  },
  {
   "cell_type": "code",
   "execution_count": 75,
   "metadata": {
    "ExecuteTime": {
     "end_time": "2019-10-20T08:10:46.537488Z",
     "start_time": "2019-10-20T08:10:46.359680Z"
    }
   },
   "outputs": [
    {
     "data": {
      "text/plain": [
       "<matplotlib.image.AxesImage at 0x7f89181f3cf8>"
      ]
     },
     "execution_count": 75,
     "metadata": {},
     "output_type": "execute_result"
    },
    {
     "data": {
      "image/png": "[encoded data removed]",
      "text/plain": [
       "<Figure size 432x288 with 1 Axes>"
      ]
     },
     "metadata": {
      "needs_background": "light"
     },
     "output_type": "display_data"
    }
   ],
   "source": [
    "plt.figure()\n",
    "plt.imshow(pieces_5[50], cmap='gray')"
   ]
  },
  {
   "cell_type": "code",
   "execution_count": 76,
   "metadata": {
    "ExecuteTime": {
     "end_time": "2019-10-20T08:10:47.753605Z",
     "start_time": "2019-10-20T08:10:47.747657Z"
    }
   },
   "outputs": [
    {
     "data": {
      "text/plain": [
       "6400"
      ]
     },
     "execution_count": 76,
     "metadata": {},
     "output_type": "execute_result"
    }
   ],
   "source": [
    "len(pieces_5)"
   ]
  },
  {
   "cell_type": "code",
   "execution_count": 77,
   "metadata": {
    "ExecuteTime": {
     "end_time": "2019-10-20T08:10:49.190048Z",
     "start_time": "2019-10-20T08:10:48.921434Z"
    }
   },
   "outputs": [
    {
     "data": {
      "text/plain": [
       "<matplotlib.image.AxesImage at 0x7f89181537b8>"
      ]
     },
     "execution_count": 77,
     "metadata": {},
     "output_type": "execute_result"
    },
    {
     "data": {
      "image/png": "[encoded data removed]",
      "text/plain": [
       "<Figure size 432x288 with 1 Axes>"
      ]
     },
     "metadata": {
      "needs_background": "light"
     },
     "output_type": "display_data"
    }
   ],
   "source": [
    "preds = ae.eval_model(x_test)\n",
    "preds_0 = preds[1] * 255.0\n",
    "preds_0 = preds_0.reshape(10, 10)\n",
    "x_test_0 = x_test[1] * 255.0\n",
    "x_test_0 = x_test_0.reshape(5, 5)\n",
    "plt.imshow(x_test_0, cmap='gray')"
   ]
  },
  {
   "cell_type": "code",
   "execution_count": 79,
   "metadata": {
    "ExecuteTime": {
     "end_time": "2019-10-20T08:10:58.475680Z",
     "start_time": "2019-10-20T08:10:58.470836Z"
    }
   },
   "outputs": [],
   "source": [
    "pieces_5 = pieces_5.reshape(6400, 5, 5, 1)"
   ]
  },
  {
   "cell_type": "code",
   "execution_count": 80,
   "metadata": {
    "ExecuteTime": {
     "end_time": "2019-10-20T08:11:00.644879Z",
     "start_time": "2019-10-20T08:11:00.219149Z"
    }
   },
   "outputs": [],
   "source": [
    "prediction = ae.eval_model(pieces_5/255.0)"
   ]
  },
  {
   "cell_type": "code",
   "execution_count": 81,
   "metadata": {
    "ExecuteTime": {
     "end_time": "2019-10-20T08:11:01.707731Z",
     "start_time": "2019-10-20T08:11:01.497303Z"
    }
   },
   "outputs": [
    {
     "data": {
      "text/plain": [
       "<matplotlib.image.AxesImage at 0x7f88cc76fba8>"
      ]
     },
     "execution_count": 81,
     "metadata": {},
     "output_type": "execute_result"
    },
    {
     "data": {
      "image/png": "[encoded data removed]",
      "text/plain": [
       "<Figure size 432x288 with 1 Axes>"
      ]
     },
     "metadata": {
      "needs_background": "light"
     },
     "output_type": "display_data"
    }
   ],
   "source": [
    "preds_0 = prediction[10] * 255.0\n",
    "preds_0 = preds_0.reshape(10, 10)\n",
    "x_test_0 = pieces_5[10] \n",
    "x_test_0 = x_test_0.reshape(5, 5)\n",
    "plt.imshow(x_test_0, cmap='gray')"
   ]
  },
  {
   "cell_type": "code",
   "execution_count": 82,
   "metadata": {
    "ExecuteTime": {
     "end_time": "2019-10-20T08:11:03.224813Z",
     "start_time": "2019-10-20T08:11:03.053322Z"
    }
   },
   "outputs": [
    {
     "data": {
      "text/plain": [
       "<matplotlib.image.AxesImage at 0x7f88cc722e48>"
      ]
     },
     "execution_count": 82,
     "metadata": {},
     "output_type": "execute_result"
    },
    {
     "data": {
      "image/png": "[encoded data removed]",
      "text/plain": [
       "<Figure size 432x288 with 1 Axes>"
      ]
     },
     "metadata": {
      "needs_background": "light"
     },
     "output_type": "display_data"
    }
   ],
   "source": [
    "plt.imshow(preds_0, cmap='gray')"
   ]
  },
  {
   "cell_type": "code",
   "execution_count": 98,
   "metadata": {
    "ExecuteTime": {
     "end_time": "2019-10-20T08:14:50.890331Z",
     "start_time": "2019-10-20T08:14:50.883114Z"
    }
   },
   "outputs": [
    {
     "data": {
      "text/plain": [
       "(6400, 10, 10, 1)"
      ]
     },
     "execution_count": 98,
     "metadata": {},
     "output_type": "execute_result"
    }
   ],
   "source": [
    "prediction.shape"
   ]
  },
  {
   "cell_type": "code",
   "execution_count": null,
   "metadata": {},
   "outputs": [],
   "source": []
  },
  {
   "cell_type": "code",
   "execution_count": 99,
   "metadata": {
    "ExecuteTime": {
     "end_time": "2019-10-20T08:14:55.733392Z",
     "start_time": "2019-10-20T08:14:55.729083Z"
    }
   },
   "outputs": [],
   "source": [
    "hstack = []"
   ]
  },
  {
   "cell_type": "code",
   "execution_count": 92,
   "metadata": {
    "ExecuteTime": {
     "end_time": "2019-10-20T08:14:05.079434Z",
     "start_time": "2019-10-20T08:14:05.054968Z"
    }
   },
   "outputs": [],
   "source": [
    "a = 0\n",
    "for x in range(40):\n",
    "#     b = prediction[40*a]\n",
    "    b = pieces_5[40*a]\n",
    "    for y in range(39):\n",
    "#         b = np.hstack((b, prediction[40*a + y + 1]))\n",
    "        b = np.hstack((b, pieces_5[40*a + y + 1]))\n",
    "    \n",
    "    a += 1\n",
    "    hstack.append(b)"
   ]
  },
  {
   "cell_type": "code",
   "execution_count": 100,
   "metadata": {
    "ExecuteTime": {
     "end_time": "2019-10-20T08:15:10.139392Z",
     "start_time": "2019-10-20T08:15:10.061874Z"
    }
   },
   "outputs": [],
   "source": [
    "a = 0\n",
    "for x in range(80):\n",
    "    b = prediction[80*a]\n",
    "#     b = pieces_5[40*a]\n",
    "    for y in range(79):\n",
    "        b = np.hstack((b, prediction[80*a + y + 1]))\n",
    "#         b = np.hstack((b, pieces_5[40*a + y + 1]))\n",
    "    \n",
    "    a += 1\n",
    "    hstack.append(b)"
   ]
  },
  {
   "cell_type": "code",
   "execution_count": null,
   "metadata": {},
   "outputs": [],
   "source": []
  },
  {
   "cell_type": "code",
   "execution_count": 101,
   "metadata": {
    "ExecuteTime": {
     "end_time": "2019-10-20T08:15:17.404519Z",
     "start_time": "2019-10-20T08:15:17.398485Z"
    }
   },
   "outputs": [],
   "source": [
    "hstack = np.asarray(hstack)"
   ]
  },
  {
   "cell_type": "code",
   "execution_count": 102,
   "metadata": {
    "ExecuteTime": {
     "end_time": "2019-10-20T08:15:18.847272Z",
     "start_time": "2019-10-20T08:15:18.840658Z"
    }
   },
   "outputs": [
    {
     "data": {
      "text/plain": [
       "(80, 10, 800, 1)"
      ]
     },
     "execution_count": 102,
     "metadata": {},
     "output_type": "execute_result"
    }
   ],
   "source": [
    "hstack.shape"
   ]
  },
  {
   "cell_type": "code",
   "execution_count": 103,
   "metadata": {
    "ExecuteTime": {
     "end_time": "2019-10-20T08:15:23.746846Z",
     "start_time": "2019-10-20T08:15:23.576971Z"
    }
   },
   "outputs": [
    {
     "data": {
      "text/plain": [
       "<matplotlib.image.AxesImage at 0x7f89180a4630>"
      ]
     },
     "execution_count": 103,
     "metadata": {},
     "output_type": "execute_result"
    },
    {
     "data": {
      "image/png": "[encoded data removed]",
      "text/plain": [
       "<Figure size 432x288 with 1 Axes>"
      ]
     },
     "metadata": {
      "needs_background": "light"
     },
     "output_type": "display_data"
    }
   ],
   "source": [
    "test_img = hstack[3]\n",
    "test_img = test_img.reshape(10, 800)\n",
    "plt.imshow(test_img, cmap='gray')"
   ]
  },
  {
   "cell_type": "code",
   "execution_count": 66,
   "metadata": {
    "ExecuteTime": {
     "end_time": "2019-10-20T08:04:52.055297Z",
     "start_time": "2019-10-20T08:04:52.042761Z"
    },
    "collapsed": true
   },
   "outputs": [
    {
     "data": {
      "text/plain": [
       "array([[[0.3725052 ],\n",
       "        [0.36723346],\n",
       "        [0.3521696 ],\n",
       "        ...,\n",
       "        [0.26185036],\n",
       "        [0.2739753 ],\n",
       "        [0.28295004]],\n",
       "\n",
       "       [[0.37851048],\n",
       "        [0.3787151 ],\n",
       "        [0.36590692],\n",
       "        ...,\n",
       "        [0.27200773],\n",
       "        [0.28467488],\n",
       "        [0.2905286 ]],\n",
       "\n",
       "       [[0.3855164 ],\n",
       "        [0.38388374],\n",
       "        [0.37581694],\n",
       "        ...,\n",
       "        [0.2781904 ],\n",
       "        [0.29205948],\n",
       "        [0.30063134]],\n",
       "\n",
       "       ...,\n",
       "\n",
       "       [[0.40712595],\n",
       "        [0.3925631 ],\n",
       "        [0.3701967 ],\n",
       "        ...,\n",
       "        [0.2989282 ],\n",
       "        [0.31650937],\n",
       "        [0.32684094]],\n",
       "\n",
       "       [[0.39719048],\n",
       "        [0.38481158],\n",
       "        [0.35854942],\n",
       "        ...,\n",
       "        [0.30538267],\n",
       "        [0.32270834],\n",
       "        [0.32754254]],\n",
       "\n",
       "       [[0.38639754],\n",
       "        [0.37193626],\n",
       "        [0.34960175],\n",
       "        ...,\n",
       "        [0.30947608],\n",
       "        [0.32193196],\n",
       "        [0.32805496]]], dtype=float32)"
      ]
     },
     "execution_count": 66,
     "metadata": {},
     "output_type": "execute_result"
    }
   ],
   "source": [
    "hstack[3]"
   ]
  },
  {
   "cell_type": "code",
   "execution_count": null,
   "metadata": {},
   "outputs": [],
   "source": []
  },
  {
   "cell_type": "code",
   "execution_count": 104,
   "metadata": {
    "ExecuteTime": {
     "end_time": "2019-10-20T08:15:39.166704Z",
     "start_time": "2019-10-20T08:15:39.139149Z"
    }
   },
   "outputs": [],
   "source": [
    "c = hstack[0]\n",
    "for z in range(79):\n",
    "    c = np.vstack((c, hstack[z + 1]))"
   ]
  },
  {
   "cell_type": "code",
   "execution_count": 105,
   "metadata": {
    "ExecuteTime": {
     "end_time": "2019-10-20T08:15:40.218382Z",
     "start_time": "2019-10-20T08:15:40.212280Z"
    }
   },
   "outputs": [
    {
     "data": {
      "text/plain": [
       "(800, 800, 1)"
      ]
     },
     "execution_count": 105,
     "metadata": {},
     "output_type": "execute_result"
    }
   ],
   "source": [
    "c.shape"
   ]
  },
  {
   "cell_type": "code",
   "execution_count": 106,
   "metadata": {
    "ExecuteTime": {
     "end_time": "2019-10-20T08:15:47.554039Z",
     "start_time": "2019-10-20T08:15:47.320789Z"
    }
   },
   "outputs": [
    {
     "data": {
      "text/plain": [
       "<matplotlib.image.AxesImage at 0x7f88cc65ac88>"
      ]
     },
     "execution_count": 106,
     "metadata": {},
     "output_type": "execute_result"
    },
    {
     "data": {
      "image/png": "[encoded data removed]",
      "text/plain": [
       "<Figure size 432x288 with 1 Axes>"
      ]
     },
     "metadata": {
      "needs_background": "light"
     },
     "output_type": "display_data"
    }
   ],
   "source": [
    "c = c.reshape(800, 800)\n",
    "plt.imshow(c, cmap='gray')"
   ]
  },
  {
   "cell_type": "code",
   "execution_count": 107,
   "metadata": {
    "ExecuteTime": {
     "end_time": "2019-10-20T08:15:53.450659Z",
     "start_time": "2019-10-20T08:15:53.444513Z"
    }
   },
   "outputs": [],
   "source": [
    "c = c*255.0"
   ]
  },
  {
   "cell_type": "code",
   "execution_count": 108,
   "metadata": {
    "ExecuteTime": {
     "end_time": "2019-10-20T08:15:58.021014Z",
     "start_time": "2019-10-20T08:15:57.992939Z"
    }
   },
   "outputs": [
    {
     "data": {
      "text/plain": [
       "True"
      ]
     },
     "execution_count": 108,
     "metadata": {},
     "output_type": "execute_result"
    }
   ],
   "source": [
    "cv2.imwrite(\"cr7_out_800.jpg\", c)"
   ]
  },
  {
   "cell_type": "code",
   "execution_count": null,
   "metadata": {},
   "outputs": [],
   "source": []
  },
  {
   "cell_type": "code",
   "execution_count": null,
   "metadata": {},
   "outputs": [],
   "source": [
    "def load_image(path, image_size = 5):\n",
    "    image_list = np.zeros((len(path), image_size, image_size, 1))\n",
    "    for i, fig in enumerate(path):\n",
    "        img = image.load_img(fig, color_mode='grayscale', target_size=(image_size, image_size))\n",
    "        x = image.img_to_array(img).astype('float32')\n",
    "        x = x / 255.0\n",
    "        image_list[i] = x\n",
    "    \n",
    "    return image_list"
   ]
  },
  {
   "cell_type": "code",
   "execution_count": null,
   "metadata": {},
   "outputs": [],
   "source": []
  }
 ],
 "metadata": {
  "kernelspec": {
   "display_name": "Python 3",
   "language": "python",
   "name": "python3"
  },
  "language_info": {
   "codemirror_mode": {
    "name": "ipython",
    "version": 3
   },
   "file_extension": ".py",
   "mimetype": "text/x-python",
   "name": "python",
   "nbconvert_exporter": "python",
   "pygments_lexer": "ipython3",
   "version": "3.7.3"
  },
  "varInspector": {
   "cols": {
    "lenName": 16,
    "lenType": 16,
    "lenVar": 40
   },
   "kernels_config": {
    "python": {
     "delete_cmd_postfix": "",
     "delete_cmd_prefix": "del ",
     "library": "var_list.py",
     "varRefreshCmd": "print(var_dic_list())"
    },
    "r": {
     "delete_cmd_postfix": ") ",
     "delete_cmd_prefix": "rm(",
     "library": "var_list.r",
     "varRefreshCmd": "cat(var_dic_list()) "
    }
   },
   "types_to_exclude": [
    "module",
    "function",
    "builtin_function_or_method",
    "instance",
    "_Feature"
   ],
   "window_display": false
  }
 },
 "nbformat": 4,
 "nbformat_minor": 2
}
