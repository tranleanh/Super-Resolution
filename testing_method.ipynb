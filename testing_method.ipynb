{
 "cells": [
  {
   "cell_type": "code",
   "execution_count": 2,
   "metadata": {
    "ExecuteTime": {
     "end_time": "2019-10-18T04:37:06.637793Z",
     "start_time": "2019-10-18T04:37:05.175905Z"
    }
   },
   "outputs": [],
   "source": [
    "import os\n",
    "import glob\n",
    "\n",
    "import numpy as np \n",
    "import pandas as pd \n",
    "import matplotlib.pyplot as plt\n",
    "import cv2\n",
    "\n",
    "from tensorflow.keras.preprocessing import image\n",
    "from tensorflow.keras.models import Model\n",
    "from tensorflow.keras.optimizers import Adam\n",
    "from tensorflow.keras.callbacks import EarlyStopping\n",
    "from tensorflow.keras.layers import Input, Dense, Activation, BatchNormalization, Flatten, Conv2D\n",
    "from tensorflow.keras.layers import MaxPooling2D, Dropout, UpSampling2D"
   ]
  },
  {
   "cell_type": "code",
   "execution_count": 3,
   "metadata": {
    "ExecuteTime": {
     "end_time": "2019-10-18T04:37:13.222008Z",
     "start_time": "2019-10-18T04:37:13.208775Z"
    }
   },
   "outputs": [],
   "source": [
    "%matplotlib inline"
   ]
  },
  {
   "cell_type": "code",
   "execution_count": 4,
   "metadata": {
    "ExecuteTime": {
     "end_time": "2019-10-18T04:38:06.787323Z",
     "start_time": "2019-10-18T04:38:06.524847Z"
    }
   },
   "outputs": [
    {
     "name": "stdout",
     "output_type": "stream",
     "text": [
      "(5, 5)\n"
     ]
    },
    {
     "data": {
      "image/png": "[encoded data removed]",
      "text/plain": [
       "<Figure size 1440x576 with 1 Axes>"
      ]
     },
     "metadata": {
      "needs_background": "light"
     },
     "output_type": "display_data"
    }
   ],
   "source": [
    "plt.figure(figsize=(20,8))\n",
    "img = cv2.imread('./gen_data/5_gray/00_lenna.jpg', 0)\n",
    "plt.imshow(img, cmap='gray')\n",
    "print(img.shape)"
   ]
  },
  {
   "cell_type": "code",
   "execution_count": 5,
   "metadata": {
    "ExecuteTime": {
     "end_time": "2019-10-18T04:39:00.956092Z",
     "start_time": "2019-10-18T04:39:00.924025Z"
    }
   },
   "outputs": [],
   "source": [
    "TRAIN_IMAGES = glob.glob('./gen_data/5_gray/*.jpg')\n",
    "CLEAN_IMAGES = glob.glob('./gen_data/10_gray/*.jpg')\n",
    "# TEST_IMAGES = glob.glob('../input/test/*.png')"
   ]
  },
  {
   "cell_type": "code",
   "execution_count": 9,
   "metadata": {
    "ExecuteTime": {
     "end_time": "2019-10-18T04:41:24.106086Z",
     "start_time": "2019-10-18T04:41:24.096937Z"
    }
   },
   "outputs": [],
   "source": [
    "def load_image(path, image_size = 5):\n",
    "    image_list = np.zeros((len(path), image_size, image_size, 1))\n",
    "    for i, fig in enumerate(path):\n",
    "        img = image.load_img(fig, color_mode='grayscale', target_size=(image_size, image_size))\n",
    "        x = image.img_to_array(img).astype('float32')\n",
    "        x = x / 255.0\n",
    "        image_list[i] = x\n",
    "    \n",
    "    return image_list"
   ]
  },
  {
   "cell_type": "code",
   "execution_count": 10,
   "metadata": {
    "ExecuteTime": {
     "end_time": "2019-10-18T04:41:25.975703Z",
     "start_time": "2019-10-18T04:41:25.032879Z"
    }
   },
   "outputs": [
    {
     "name": "stdout",
     "output_type": "stream",
     "text": [
      "(2437, 5, 5, 1) (2437, 10, 10, 1)\n"
     ]
    }
   ],
   "source": [
    "x_train = load_image(TRAIN_IMAGES, 5)\n",
    "y_train = load_image(CLEAN_IMAGES, 10)\n",
    "# x_test = load_image(TEST_IMAGES)\n",
    "\n",
    "print(x_train.shape, y_train.shape)"
   ]
  },
  {
   "cell_type": "code",
   "execution_count": 11,
   "metadata": {
    "ExecuteTime": {
     "end_time": "2019-10-18T04:41:56.340964Z",
     "start_time": "2019-10-18T04:41:56.326589Z"
    }
   },
   "outputs": [
    {
     "name": "stdout",
     "output_type": "stream",
     "text": [
      "(1949, 5, 5, 1) (488, 5, 5, 1)\n"
     ]
    }
   ],
   "source": [
    "def train_val_split(x_train, y_train):\n",
    "    rnd = np.random.RandomState(seed=42)\n",
    "    perm = rnd.permutation(len(x_train))\n",
    "    train_idx = perm[:int(0.8 * len(x_train))]\n",
    "    val_idx = perm[int(0.8 * len(x_train)):]\n",
    "    return x_train[train_idx], y_train[train_idx], x_train[val_idx], y_train[val_idx]\n",
    "\n",
    "x_train, y_train, x_val, y_val = train_val_split(x_train, y_train)\n",
    "print(x_train.shape, x_val.shape)"
   ]
  },
  {
   "cell_type": "code",
   "execution_count": 12,
   "metadata": {
    "ExecuteTime": {
     "end_time": "2019-10-18T04:43:27.394706Z",
     "start_time": "2019-10-18T04:43:27.372456Z"
    }
   },
   "outputs": [],
   "source": [
    "class Autoencoder():\n",
    "    def __init__(self):\n",
    "        self.img_rows = 5\n",
    "        self.img_cols = 5\n",
    "        self.channels = 1\n",
    "        self.img_shape = (self.img_rows, self.img_cols, self.channels)\n",
    "        \n",
    "        optimizer = Adam(lr=0.001)\n",
    "        \n",
    "        self.autoencoder_model = self.build_model()\n",
    "        self.autoencoder_model.compile(loss='mse', optimizer=optimizer)\n",
    "        self.autoencoder_model.summary()\n",
    "    \n",
    "    def build_model(self):\n",
    "        input_layer = Input(shape=self.img_shape)\n",
    "        \n",
    "        # encoder\n",
    "        h = Conv2D(64, (3, 3), activation='relu', padding='same')(input_layer)\n",
    "#         h = MaxPooling2D((2, 2), padding='same')(h)\n",
    "        \n",
    "        # decoder\n",
    "        h = Conv2D(64, (3, 3), activation='relu', padding='same')(h)\n",
    "        h = UpSampling2D((2, 2))(h)\n",
    "        output_layer = Conv2D(1, (3, 3), activation='sigmoid', padding='same')(h)\n",
    "        \n",
    "        return Model(input_layer, output_layer)\n",
    "    \n",
    "    def train_model(self, x_train, y_train, x_val, y_val, epochs, batch_size=20):\n",
    "        early_stopping = EarlyStopping(monitor='val_loss',\n",
    "                                       min_delta=0,\n",
    "                                       patience=5,\n",
    "                                       verbose=1, \n",
    "                                       mode='auto')\n",
    "        history = self.autoencoder_model.fit(x_train, y_train,\n",
    "                                             batch_size=batch_size,\n",
    "                                             epochs=epochs,\n",
    "                                             validation_data=(x_val, y_val),\n",
    "                                             callbacks=[early_stopping])\n",
    "        plt.plot(history.history['loss'])\n",
    "        plt.plot(history.history['val_loss'])\n",
    "        plt.title('Model loss')\n",
    "        plt.ylabel('Loss')\n",
    "        plt.xlabel('Epoch')\n",
    "        plt.legend(['Train', 'Test'], loc='upper left')\n",
    "        plt.show()\n",
    "    \n",
    "    def eval_model(self, x_test):\n",
    "        preds = self.autoencoder_model.predict(x_test)\n",
    "        return preds"
   ]
  },
  {
   "cell_type": "code",
   "execution_count": 13,
   "metadata": {
    "ExecuteTime": {
     "end_time": "2019-10-18T04:43:51.008556Z",
     "start_time": "2019-10-18T04:43:37.862692Z"
    }
   },
   "outputs": [
    {
     "name": "stdout",
     "output_type": "stream",
     "text": [
      "Model: \"model\"\n",
      "_________________________________________________________________\n",
      "Layer (type)                 Output Shape              Param #   \n",
      "=================================================================\n",
      "input_1 (InputLayer)         [(None, 5, 5, 1)]         0         \n",
      "_________________________________________________________________\n",
      "conv2d (Conv2D)              (None, 5, 5, 64)          640       \n",
      "_________________________________________________________________\n",
      "conv2d_1 (Conv2D)            (None, 5, 5, 64)          36928     \n",
      "_________________________________________________________________\n",
      "up_sampling2d (UpSampling2D) (None, 10, 10, 64)        0         \n",
      "_________________________________________________________________\n",
      "conv2d_2 (Conv2D)            (None, 10, 10, 1)         577       \n",
      "=================================================================\n",
      "Total params: 38,145\n",
      "Trainable params: 38,145\n",
      "Non-trainable params: 0\n",
      "_________________________________________________________________\n",
      "Train on 1949 samples, validate on 488 samples\n",
      "Epoch 1/200\n",
      "1949/1949 [==============================] - 2s 1ms/sample - loss: 0.0115 - val_loss: 0.0025\n",
      "Epoch 2/200\n",
      "1949/1949 [==============================] - 0s 255us/sample - loss: 0.0015 - val_loss: 9.4230e-04\n",
      "Epoch 3/200\n",
      "1949/1949 [==============================] - 1s 262us/sample - loss: 8.1331e-04 - val_loss: 7.3480e-04\n",
      "Epoch 4/200\n",
      "1949/1949 [==============================] - 1s 261us/sample - loss: 6.7913e-04 - val_loss: 6.3213e-04\n",
      "Epoch 5/200\n",
      "1949/1949 [==============================] - 1s 261us/sample - loss: 6.5639e-04 - val_loss: 6.0567e-04\n",
      "Epoch 6/200\n",
      "1949/1949 [==============================] - 1s 259us/sample - loss: 6.0440e-04 - val_loss: 7.8476e-04\n",
      "Epoch 7/200\n",
      "1949/1949 [==============================] - 1s 259us/sample - loss: 6.4021e-04 - val_loss: 5.5049e-04\n",
      "Epoch 8/200\n",
      "1949/1949 [==============================] - 0s 256us/sample - loss: 5.6003e-04 - val_loss: 5.3201e-04\n",
      "Epoch 9/200\n",
      "1949/1949 [==============================] - 1s 260us/sample - loss: 5.4099e-04 - val_loss: 5.2615e-04\n",
      "Epoch 10/200\n",
      "1949/1949 [==============================] - 1s 261us/sample - loss: 5.3948e-04 - val_loss: 5.0798e-04\n",
      "Epoch 11/200\n",
      "1949/1949 [==============================] - 1s 258us/sample - loss: 5.1398e-04 - val_loss: 5.0574e-04\n",
      "Epoch 12/200\n",
      "1949/1949 [==============================] - 1s 261us/sample - loss: 5.3558e-04 - val_loss: 5.2078e-04\n",
      "Epoch 13/200\n",
      "1949/1949 [==============================] - 0s 253us/sample - loss: 5.1293e-04 - val_loss: 4.9092e-04\n",
      "Epoch 14/200\n",
      "1949/1949 [==============================] - 1s 257us/sample - loss: 4.9057e-04 - val_loss: 4.9487e-04\n",
      "Epoch 15/200\n",
      "1949/1949 [==============================] - 1s 259us/sample - loss: 5.0146e-04 - val_loss: 5.3603e-04\n",
      "Epoch 16/200\n",
      "1949/1949 [==============================] - 1s 265us/sample - loss: 4.8849e-04 - val_loss: 4.9265e-04\n",
      "Epoch 17/200\n",
      "1949/1949 [==============================] - 1s 259us/sample - loss: 4.7994e-04 - val_loss: 5.2246e-04\n",
      "Epoch 18/200\n",
      "1949/1949 [==============================] - 1s 257us/sample - loss: 4.9077e-04 - val_loss: 5.1104e-04\n",
      "Epoch 00018: early stopping\n"
     ]
    },
    {
     "data": {
      "image/png": "[encoded data removed]",
      "text/plain": [
       "<Figure size 432x288 with 1 Axes>"
      ]
     },
     "metadata": {
      "needs_background": "light"
     },
     "output_type": "display_data"
    }
   ],
   "source": [
    "ae = Autoencoder()\n",
    "ae.train_model(x_train, y_train, x_val, y_val, epochs=200, batch_size=20)"
   ]
  },
  {
   "cell_type": "code",
   "execution_count": 14,
   "metadata": {
    "ExecuteTime": {
     "end_time": "2019-10-18T04:47:15.472698Z",
     "start_time": "2019-10-18T04:47:15.459046Z"
    }
   },
   "outputs": [
    {
     "name": "stdout",
     "output_type": "stream",
     "text": [
      "(10, 5, 5, 1)\n"
     ]
    }
   ],
   "source": [
    "TEST_IMAGES = glob.glob('./gen_data/test/*.jpg')\n",
    "x_test = load_image(TEST_IMAGES)\n",
    "print(x_test.shape)"
   ]
  },
  {
   "cell_type": "code",
   "execution_count": 15,
   "metadata": {
    "ExecuteTime": {
     "end_time": "2019-10-18T04:47:38.959929Z",
     "start_time": "2019-10-18T04:47:38.794632Z"
    }
   },
   "outputs": [],
   "source": [
    "preds = ae.eval_model(x_test)"
   ]
  },
  {
   "cell_type": "code",
   "execution_count": 33,
   "metadata": {
    "ExecuteTime": {
     "end_time": "2019-10-18T04:55:13.780656Z",
     "start_time": "2019-10-18T04:55:13.593947Z"
    }
   },
   "outputs": [
    {
     "data": {
      "text/plain": [
       "<matplotlib.image.AxesImage at 0x7fc414489a90>"
      ]
     },
     "execution_count": 33,
     "metadata": {},
     "output_type": "execute_result"
    },
    {
     "data": {
      "image/png": "[encoded data removed]",
      "text/plain": [
       "<Figure size 432x288 with 1 Axes>"
      ]
     },
     "metadata": {
      "needs_background": "light"
     },
     "output_type": "display_data"
    }
   ],
   "source": [
    "preds_0 = preds[1] * 255.0\n",
    "preds_0 = preds_0.reshape(10, 10)\n",
    "x_test_0 = x_test[1] * 255.0\n",
    "x_test_0 = x_test_0.reshape(5, 5)\n",
    "plt.imshow(x_test_0, cmap='gray')"
   ]
  },
  {
   "cell_type": "code",
   "execution_count": 34,
   "metadata": {
    "ExecuteTime": {
     "end_time": "2019-10-18T04:55:14.952968Z",
     "start_time": "2019-10-18T04:55:14.802506Z"
    }
   },
   "outputs": [
    {
     "data": {
      "text/plain": [
       "<matplotlib.image.AxesImage at 0x7fc4145cc860>"
      ]
     },
     "execution_count": 34,
     "metadata": {},
     "output_type": "execute_result"
    },
    {
     "data": {
      "image/png": "[encoded data removed]",
      "text/plain": [
       "<Figure size 432x288 with 1 Axes>"
      ]
     },
     "metadata": {
      "needs_background": "light"
     },
     "output_type": "display_data"
    }
   ],
   "source": [
    "plt.imshow(preds_0, cmap='gray')"
   ]
  },
  {
   "cell_type": "code",
   "execution_count": 37,
   "metadata": {
    "ExecuteTime": {
     "end_time": "2019-10-18T04:56:58.351276Z",
     "start_time": "2019-10-18T04:56:58.163293Z"
    }
   },
   "outputs": [
    {
     "name": "stdout",
     "output_type": "stream",
     "text": [
      "(5, 5)\n"
     ]
    },
    {
     "data": {
      "image/png": "[encoded data removed]",
      "text/plain": [
       "<Figure size 432x288 with 1 Axes>"
      ]
     },
     "metadata": {
      "needs_background": "light"
     },
     "output_type": "display_data"
    }
   ],
   "source": [
    "# plt.figure(figsize=(20,8))\n",
    "plt.figure()\n",
    "img = cv2.imread('./gen_data/5_gray/031_lenna.jpg', 0)\n",
    "plt.imshow(img, cmap='gray')\n",
    "print(img.shape)"
   ]
  },
  {
   "cell_type": "code",
   "execution_count": 38,
   "metadata": {
    "ExecuteTime": {
     "end_time": "2019-10-18T04:56:59.418857Z",
     "start_time": "2019-10-18T04:56:59.282072Z"
    }
   },
   "outputs": [
    {
     "name": "stdout",
     "output_type": "stream",
     "text": [
      "(10, 10)\n"
     ]
    },
    {
     "data": {
      "image/png": "[encoded data removed]",
      "text/plain": [
       "<Figure size 432x288 with 1 Axes>"
      ]
     },
     "metadata": {
      "needs_background": "light"
     },
     "output_type": "display_data"
    }
   ],
   "source": [
    "plt.figure()\n",
    "img = cv2.imread('./gen_data/10_gray/031_lenna.jpg', 0)\n",
    "plt.imshow(img, cmap='gray')\n",
    "print(img.shape)"
   ]
  },
  {
   "cell_type": "code",
   "execution_count": null,
   "metadata": {},
   "outputs": [],
   "source": []
  }
 ],
 "metadata": {
  "kernelspec": {
   "display_name": "Python 3",
   "language": "python",
   "name": "python3"
  },
  "language_info": {
   "codemirror_mode": {
    "name": "ipython",
    "version": 3
   },
   "file_extension": ".py",
   "mimetype": "text/x-python",
   "name": "python",
   "nbconvert_exporter": "python",
   "pygments_lexer": "ipython3",
   "version": "3.7.3"
  },
  "varInspector": {
   "cols": {
    "lenName": 16,
    "lenType": 16,
    "lenVar": 40
   },
   "kernels_config": {
    "python": {
     "delete_cmd_postfix": "",
     "delete_cmd_prefix": "del ",
     "library": "var_list.py",
     "varRefreshCmd": "print(var_dic_list())"
    },
    "r": {
     "delete_cmd_postfix": ") ",
     "delete_cmd_prefix": "rm(",
     "library": "var_list.r",
     "varRefreshCmd": "cat(var_dic_list()) "
    }
   },
   "types_to_exclude": [
    "module",
    "function",
    "builtin_function_or_method",
    "instance",
    "_Feature"
   ],
   "window_display": false
  }
 },
 "nbformat": 4,
 "nbformat_minor": 2
}
